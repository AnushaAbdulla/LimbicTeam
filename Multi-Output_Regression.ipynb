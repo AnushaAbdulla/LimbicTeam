{
  "nbformat": 4,
  "nbformat_minor": 0,
  "metadata": {
    "colab": {
      "provenance": []
    },
    "kernelspec": {
      "name": "python3",
      "display_name": "Python 3"
    },
    "language_info": {
      "name": "python"
    }
  },
  "cells": [
    {
      "cell_type": "code",
      "source": [
        "import pandas as pd\n",
        "import seaborn as sns\n",
        "import matplotlib.pyplot as plt\n",
        "import os\n",
        "from google.colab import drive"
      ],
      "metadata": {
        "id": "SHKUjiazg-BU"
      },
      "execution_count": null,
      "outputs": []
    },
    {
      "cell_type": "code",
      "source": [
        "drive.mount('/content/drive', force_remount=True)\n",
        "os.chdir(\"/content/drive/MyDrive/TeamLimbic-BTT-SpringStudio/widsdatathon2025/TRAIN\")"
      ],
      "metadata": {
        "colab": {
          "base_uri": "https://localhost:8080/"
        },
        "id": "pvKJ9wXUg_q2",
        "outputId": "7b216d85-04df-4677-be68-46ee3def4884"
      },
      "execution_count": null,
      "outputs": [
        {
          "output_type": "stream",
          "name": "stdout",
          "text": [
            "Mounted at /content/drive\n"
          ]
        }
      ]
    },
    {
      "cell_type": "code",
      "source": [
        "# Load datasets\n",
        "train_targets = pd.read_excel(\"TRAINING_SOLUTIONS.xlsx\")\n",
        "train_categorical = pd.read_excel(\"TRAIN_CATEGORICAL_METADATA.xlsx\")\n",
        "train_quant = pd.read_excel(\"TRAIN_QUANTITATIVE_METADATA.xlsx\")\n",
        "train_connectome = pd.read_csv(\"TRAIN_FUNCTIONAL_CONNECTOME_MATRICES.csv\")"
      ],
      "metadata": {
        "id": "__4qTh6chKgh"
      },
      "execution_count": null,
      "outputs": []
    },
    {
      "cell_type": "code",
      "source": [
        "# Merge categorical and quantitative features\n",
        "train_data = pd.merge(train_categorical, train_quant, on=\"participant_id\", how=\"left\")\n",
        "\n",
        "# Merge fMRI connectome data\n",
        "train_data = pd.merge(train_data, train_connectome, on=\"participant_id\", how=\"left\")\n",
        "\n",
        "# Merge with targets\n",
        "train_data = pd.merge(train_data, train_targets, on=\"participant_id\", how=\"left\")\n",
        "\n",
        "# Drop participant_id since it's just an identifier\n",
        "train_data = train_data.drop(columns=[\"participant_id\"])\n",
        "\n",
        "# Fill missing values with the median (recommended for numerical features)\n",
        "train_data.fillna(train_data.median(numeric_only=True), inplace=True)"
      ],
      "metadata": {
        "id": "Fzfn07hthPGK"
      },
      "execution_count": null,
      "outputs": []
    },
    {
      "cell_type": "code",
      "source": [
        "from sklearn.model_selection import train_test_split\n",
        "\n",
        "# Define target variables\n",
        "y = train_data[[\"ADHD_Outcome\", \"Sex_F\"]]  # Labels\n",
        "X = train_data.drop(columns=[\"ADHD_Outcome\", \"Sex_F\"])  # Features only\n",
        "\n",
        "# Train-Test Split (80-20 split)\n",
        "X_train, X_test, y_train, y_test = train_test_split(X, y, test_size=0.2, random_state=42)\n",
        "\n",
        "print(\"Train shape:\", X_train.shape, y_train.shape)\n",
        "print(\"Test shape:\", X_test.shape, y_test.shape)"
      ],
      "metadata": {
        "id": "yU1_Y7mZhZCf",
        "colab": {
          "base_uri": "https://localhost:8080/"
        },
        "outputId": "e2c7e1c3-c162-4b85-9c2a-72fe770d38b3"
      },
      "execution_count": null,
      "outputs": [
        {
          "output_type": "stream",
          "name": "stdout",
          "text": [
            "Train shape: (970, 19927) (970, 2)\n",
            "Test shape: (243, 19927) (243, 2)\n"
          ]
        }
      ]
    },
    {
      "cell_type": "code",
      "source": [
        "from sklearn.preprocessing import StandardScaler\n",
        "\n",
        "scaler = StandardScaler()\n",
        "\n",
        "# Fit on training data & transform both train and test\n",
        "X_train_scaled = scaler.fit_transform(X_train)\n",
        "X_test_scaled = scaler.transform(X_test)"
      ],
      "metadata": {
        "id": "aKycfZKuhcv7"
      },
      "execution_count": null,
      "outputs": []
    },
    {
      "cell_type": "code",
      "source": [
        "from sklearn.linear_model import LogisticRegression\n",
        "from sklearn.multioutput import MultiOutputClassifier\n",
        "\n",
        "# Define base classifier (Logistic Regression)\n",
        "rf = LogisticRegression(random_state=0)\n",
        "\n",
        "# Wrap it in MultiOutputClassifier\n",
        "multi_rf = MultiOutputClassifier(rf)\n",
        "\n",
        "# Train the model\n",
        "multi_rf.fit(X_train_scaled, y_train)\n",
        "\n",
        "# Predict on test set\n",
        "y_pred = multi_rf.predict(X_test_scaled)\n"
      ],
      "metadata": {
        "id": "tCSgqukShdQ-"
      },
      "execution_count": null,
      "outputs": []
    },
    {
      "cell_type": "code",
      "source": [
        "from sklearn.metrics import accuracy_score, classification_report\n",
        "\n",
        "# Evaluate ADHD prediction\n",
        "print(\"ADHD Prediction Report:\")\n",
        "print(classification_report(y_test[\"ADHD_Outcome\"], y_pred[:, 0]))\n",
        "\n",
        "# Evaluate Sex prediction\n",
        "print(\"Sex Prediction Report:\")\n",
        "print(classification_report(y_test[\"Sex_F\"], y_pred[:, 1]))\n",
        "\n",
        "# Overall accuracy\n",
        "overall_accuracy = accuracy_score(y_test, y_pred)\n",
        "print(f\"Overall Accuracy: {overall_accuracy:.2f}\")"
      ],
      "metadata": {
        "colab": {
          "base_uri": "https://localhost:8080/"
        },
        "id": "BQyyUhqajzkj",
        "outputId": "47297cd6-81d9-45ee-f142-4bf943f13f60"
      },
      "execution_count": null,
      "outputs": [
        {
          "output_type": "stream",
          "name": "stdout",
          "text": [
            "ADHD Prediction Report:\n",
            "              precision    recall  f1-score   support\n",
            "\n",
            "           0       0.50      0.17      0.25        65\n",
            "           1       0.76      0.94      0.84       178\n",
            "\n",
            "    accuracy                           0.73       243\n",
            "   macro avg       0.63      0.55      0.54       243\n",
            "weighted avg       0.69      0.73      0.68       243\n",
            "\n",
            "Sex Prediction Report:\n",
            "              precision    recall  f1-score   support\n",
            "\n",
            "           0       0.77      0.94      0.84       171\n",
            "           1       0.69      0.33      0.45        72\n",
            "\n",
            "    accuracy                           0.76       243\n",
            "   macro avg       0.73      0.63      0.65       243\n",
            "weighted avg       0.74      0.76      0.73       243\n",
            "\n",
            "Overall Accuracy: 0.56\n"
          ]
        }
      ]
    },
    {
      "cell_type": "code",
      "source": [
        "print(train_data[\"MRI_Track_Age_at_Scan\"].describe())"
      ],
      "metadata": {
        "colab": {
          "base_uri": "https://localhost:8080/"
        },
        "id": "8Bb0SiGFK9sa",
        "outputId": "d1970e27-2613-456d-e27b-658d9fffe8ce"
      },
      "execution_count": null,
      "outputs": [
        {
          "output_type": "stream",
          "name": "stdout",
          "text": [
            "count    1213.000000\n",
            "mean       11.095369\n",
            "std         2.721666\n",
            "min         0.000000\n",
            "25%         9.583960\n",
            "50%        10.739219\n",
            "75%        11.966005\n",
            "max        21.564453\n",
            "Name: MRI_Track_Age_at_Scan, dtype: float64\n"
          ]
        }
      ]
    },
    {
      "cell_type": "code",
      "source": [
        "print(train_data[train_data[\"MRI_Track_Age_at_Scan\"] == 0])"
      ],
      "metadata": {
        "colab": {
          "base_uri": "https://localhost:8080/"
        },
        "id": "TmQagy4qK_cO",
        "outputId": "59eb8711-eb9a-4829-ab31-59146624ac2e"
      },
      "execution_count": null,
      "outputs": [
        {
          "output_type": "stream",
          "name": "stdout",
          "text": [
            "      Basic_Demos_Enroll_Year  Basic_Demos_Study_Site  \\\n",
            "64                       2016                       1   \n",
            "1192                     2016                       1   \n",
            "\n",
            "      PreInt_Demos_Fam_Child_Ethnicity  PreInt_Demos_Fam_Child_Race  \\\n",
            "64                                 0.0                            0   \n",
            "1192                               0.0                            0   \n",
            "\n",
            "      MRI_Track_Scan_Location  Barratt_Barratt_P1_Edu  Barratt_Barratt_P1_Occ  \\\n",
            "64                          0                      15                       0   \n",
            "1192                        0                      18                      40   \n",
            "\n",
            "      Barratt_Barratt_P2_Edu  Barratt_Barratt_P2_Occ  EHQ_EHQ_Total  ...  \\\n",
            "64                        21                      35          40.00  ...   \n",
            "1192                      18                      45          86.67  ...   \n",
            "\n",
            "      195throw_198thcolumn  195throw_199thcolumn  196throw_197thcolumn  \\\n",
            "64               -0.008837             -0.116215              0.161074   \n",
            "1192              0.053109              0.024516              0.025222   \n",
            "\n",
            "      196throw_198thcolumn  196throw_199thcolumn  197throw_198thcolumn  \\\n",
            "64               -0.063020              0.119774              0.107612   \n",
            "1192             -0.084151              0.250923              0.101255   \n",
            "\n",
            "      197throw_199thcolumn  198throw_199thcolumn  ADHD_Outcome  Sex_F  \n",
            "64                0.084473              0.152210             1      0  \n",
            "1192              0.126218              0.258452             0      1  \n",
            "\n",
            "[2 rows x 19929 columns]\n"
          ]
        }
      ]
    },
    {
      "cell_type": "code",
      "source": [
        "from scipy.stats import skew\n",
        "\n",
        "skewness = skew(train_data[\"MRI_Track_Age_at_Scan\"].dropna())\n",
        "print(f\"Skewness: {skewness:.4f}\")"
      ],
      "metadata": {
        "colab": {
          "base_uri": "https://localhost:8080/"
        },
        "id": "8xzwzgV8J1zD",
        "outputId": "3bcb5188-3adf-4664-d45b-8700b96fc95d"
      },
      "execution_count": null,
      "outputs": [
        {
          "output_type": "stream",
          "name": "stdout",
          "text": [
            "Skewness: 0.8045\n"
          ]
        }
      ]
    },
    {
      "cell_type": "code",
      "source": [
        "train_data[\"MRI_Track_Age_at_Scan\"] = train_data[\"MRI_Track_Age_at_Scan\"].fillna(train_data[\"MRI_Track_Age_at_Scan\"].median())\n",
        "train_data[\"PreInt_Demos_Fam_Child_Ethnicity\"] = train_data[\"PreInt_Demos_Fam_Child_Ethnicity\"].fillna(train_data[\"PreInt_Demos_Fam_Child_Ethnicity\"].mode()[0])"
      ],
      "metadata": {
        "id": "mJ9vbNZoJ5_t"
      },
      "execution_count": null,
      "outputs": []
    },
    {
      "cell_type": "code",
      "source": [
        "from scipy.stats import zscore\n",
        "numerical_columns = train_data.select_dtypes(include=['number']).columns\n",
        "z_scores = train_data[numerical_columns].apply(zscore)\n",
        "\n",
        "# Find rows with Z-scores above 3 or below -3\n",
        "outliers = (z_scores > 3) | (z_scores < -3)\n",
        "outliers = outliers.any(axis=1)\n",
        "outliers_data = train_data[outliers]\n",
        "\n",
        "print(f\"Number of outliers detected: {outliers_data.shape[0]}\")\n"
      ],
      "metadata": {
        "colab": {
          "base_uri": "https://localhost:8080/"
        },
        "id": "JkitpRxFJ96f",
        "outputId": "f83ad4ed-2b13-4421-faa8-fe984b340f5d"
      },
      "execution_count": null,
      "outputs": [
        {
          "output_type": "stream",
          "name": "stdout",
          "text": [
            "Number of outliers detected: 1213\n"
          ]
        }
      ]
    },
    {
      "cell_type": "code",
      "source": [
        "Q1 = train_data[numerical_columns].quantile(0.25)\n",
        "Q3 = train_data[numerical_columns].quantile(0.75)\n",
        "IQR = Q3 - Q1\n",
        "\n",
        "# Filter rows where the values are outside of 1.5*IQR\n",
        "filtered_data = train_data[~((train_data[numerical_columns] < (Q1 - 1.5 * IQR)) | (train_data[numerical_columns] > (Q3 + 1.5 * IQR))).any(axis=1)]\n",
        "print(f\"Data shape after removing outliers: {filtered_data.shape}\")"
      ],
      "metadata": {
        "colab": {
          "base_uri": "https://localhost:8080/"
        },
        "id": "C_N2EYRwJ-bz",
        "outputId": "6516f205-513b-474e-afc9-9fbb660a2b4d"
      },
      "execution_count": null,
      "outputs": [
        {
          "output_type": "stream",
          "name": "stdout",
          "text": [
            "Data shape after removing outliers: (0, 19929)\n"
          ]
        }
      ]
    },
    {
      "cell_type": "code",
      "source": [
        "# Check for imbalance in ADHD_Outcome\n",
        "print(train_data['ADHD_Outcome'].value_counts())\n",
        "\n",
        "# Check for imbalance in Sex_F\n",
        "print(train_data['Sex_F'].value_counts())\n"
      ],
      "metadata": {
        "colab": {
          "base_uri": "https://localhost:8080/"
        },
        "id": "JuT1FP2dKAbB",
        "outputId": "df62676e-4ee7-42e8-e964-d0e3a233519e"
      },
      "execution_count": null,
      "outputs": [
        {
          "output_type": "stream",
          "name": "stdout",
          "text": [
            "ADHD_Outcome\n",
            "1    831\n",
            "0    382\n",
            "Name: count, dtype: int64\n",
            "Sex_F\n",
            "0    797\n",
            "1    416\n",
            "Name: count, dtype: int64\n"
          ]
        }
      ]
    },
    {
      "cell_type": "code",
      "source": [
        "X_train, X_test, y_train, y_test = train_test_split(X, y, test_size=0.2, random_state=42)\n",
        "\n",
        "# Initialize the model\n",
        "adhd_model = LogisticRegression(random_state=0, max_iter=10000, solver='liblinear', penalty='l1')\n",
        "sex_model = LogisticRegression(random_state=0, max_iter=10000, solver='newton-cg', penalty=None)\n",
        "#base_model = LogisticRegression(random_state=0, max_iter=10000, solver='newton-cg', penalty=None)\n",
        "\n",
        "# Multi-output model for both ADHD_Outcome and Sex_F\n",
        "#model = MultiOutputClassifier(base_model)\n",
        "\n",
        "# Fit the model\n",
        "adhd_model.fit(X_train, y_train['ADHD_Outcome'])\n",
        "sex_model.fit(X_train, y_train['Sex_F'])\n",
        "#model.fit(X_train, y_train)\n",
        "\n",
        "# Make predictions\n",
        "y_pred_adhd = adhd_model.predict(X_test)\n",
        "y_pred_sex = sex_model.predict(X_test)\n",
        "#y_pred = model.predict(X_test)\n",
        "\n",
        "# Calculate accuracy for both targets\n",
        "accuracy_adhd = accuracy_score(y_test['ADHD_Outcome'], y_pred_adhd)\n",
        "accuracy_sex = accuracy_score(y_test['Sex_F'], y_pred_sex)\n",
        "#accuracy_adhd = accuracy_score(y_test['ADHD_Outcome'], y_pred[:, 0])\n",
        "#accuracy_sex = accuracy_score(y_test['Sex_F'], y_pred[:, 1])\n",
        "\n",
        "# Output the accuracy scores\n",
        "print(f\"Accuracy for ADHD_Outcome: {accuracy_adhd:.4f}\")\n",
        "print(f\"Accuracy for Sex_F: {accuracy_sex:.4f}\")\n",
        "\n",
        "# Overall accuracy\n",
        "#overall_accuracy = accuracy_score(y_test, y_pred)\n",
        "overall_correct = (y_test['ADHD_Outcome'] == y_pred_adhd) & (y_test['Sex_F'] == y_pred_sex)\n",
        "overall_accuracy = overall_correct.mean()\n",
        "print(f\"Overall Accuracy: {overall_accuracy:.2f}\")"
      ],
      "metadata": {
        "colab": {
          "base_uri": "https://localhost:8080/"
        },
        "id": "UXibuIUDKBxt",
        "outputId": "8b6a88d1-2267-416c-ff94-591d531516cd"
      },
      "execution_count": null,
      "outputs": [
        {
          "output_type": "stream",
          "name": "stdout",
          "text": [
            "Accuracy for ADHD_Outcome: 0.8025\n",
            "Accuracy for Sex_F: 0.7037\n",
            "Overall Accuracy: 0.58\n"
          ]
        }
      ]
    },
    {
      "cell_type": "markdown",
      "source": [
        "Testing different parameters (C=1.0)\n",
        "\n",
        "\n",
        "---\n",
        "\n",
        "\n",
        "newton-cg (l2): 0.7984, 0.7695, 0.61\n",
        "\n",
        "newton-cg (None): 0.7901, 0.7860, 0.61\n",
        "\n",
        "\n",
        "---\n",
        "\n",
        "\n",
        "lbfgs (l2): 0.7942, 0.7695, 0.60\n",
        "\n",
        "lbfgs (None): 0.778, 0.7449, 0.58\n",
        "\n",
        "\n",
        "---\n",
        "\n",
        "\n",
        "sag (l2): 0.7984, 0.6996, 0.57\n",
        "\n",
        "sag (None): 0.7984, 0.6996, 0.57\n",
        "\n",
        "\n",
        "---\n",
        "\n",
        "\n",
        "newton-cholesky (l2): 0.7901, 0.7695, 0.61\n",
        "\n",
        "newton-cholesky (None): 0.7778, 0.7449, 0.58"
      ],
      "metadata": {
        "id": "Sh1_SaL3hemh"
      }
    },
    {
      "cell_type": "markdown",
      "source": [
        "---\n",
        "\n",
        "\n",
        "saga (l1): 0.8025, 0.7078, 0.58\n",
        "\n",
        "saga (l2): 0.8025, 0.7160, 0.59\n",
        "\n",
        "saga (elasticnet, l1_ratio=0.5): 0.8025 0.7078, 0.58\n",
        "\n",
        "saga (None): 0.8025, 0.7119, 0.58\n",
        "\n"
      ],
      "metadata": {
        "id": "ffVsj-Mah4Si"
      }
    },
    {
      "cell_type": "markdown",
      "source": [
        "---\n",
        "\n",
        "\n",
        "liblinear (l1): 0.8066, 0.6955, 0.58\n",
        "\n",
        "liblinear (l2): 0.7942, 0.7695, 0.60"
      ],
      "metadata": {
        "id": "ZuUBj52OiFEr"
      }
    }
  ]
}